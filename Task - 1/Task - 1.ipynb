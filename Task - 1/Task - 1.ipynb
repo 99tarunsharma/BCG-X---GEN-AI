{
 "cells": [
  {
   "cell_type": "code",
   "execution_count": 26,
   "metadata": {},
   "outputs": [],
   "source": [
    "import pandas as pd\n",
    "import numpy as np\n"
   ]
  },
  {
   "cell_type": "markdown",
   "metadata": {},
   "source": [
    "# Reading the Manually Extracted Dataset from SEC's EDGAR's database\n",
    "\n",
    "\n",
    "https://www.sec.gov/edgar/searchedgar/cik"
   ]
  },
  {
   "cell_type": "code",
   "execution_count": 27,
   "metadata": {},
   "outputs": [],
   "source": [
    "data = pd.read_excel(\"T:/1. PROJECTS/BCG X - GEN AI/Task - 1/Report.xlsx\")"
   ]
  },
  {
   "cell_type": "code",
   "execution_count": 28,
   "metadata": {},
   "outputs": [
    {
     "name": "stdout",
     "output_type": "stream",
     "text": [
      "     Company  Fiscal Year End  Total Revenue  Net Income  Total Assets  \\\n",
      "0  Microsoft       June, 2024         211915       72361        411976   \n",
      "1  Microsoft       June, 2023         198270       72738        364840   \n",
      "2  Microsoft       June, 2022         168088       61271        336289   \n",
      "3      Tesla   December, 2023          96773       14997        106618   \n",
      "4      Tesla   December, 2022          81462       12556         82338   \n",
      "5      Tesla   December, 2021          53823        5519         62131   \n",
      "6      Apple  September, 2023         383285       96995        352583   \n",
      "7      Apple  September, 2022         394328       99803        352755   \n",
      "8      Apple  September, 2021         365817       94680        351002   \n",
      "\n",
      "   Total Liabilities  Cash Flow from Operating Activities  \n",
      "0             205753                                87582  \n",
      "1             198298                                89035  \n",
      "2             177057                                76740  \n",
      "3              43009                                13256  \n",
      "4              36440                                14724  \n",
      "5              30548                                11497  \n",
      "6             290437                               110543  \n",
      "7             302083                               122151  \n",
      "8             287912                               104038  \n"
     ]
    }
   ],
   "source": [
    "print(data)"
   ]
  },
  {
   "cell_type": "markdown",
   "metadata": {},
   "source": [
    "# Calculating Year-by-Year growth rates for Total Revenue and Net Income"
   ]
  },
  {
   "cell_type": "code",
   "execution_count": 29,
   "metadata": {},
   "outputs": [],
   "source": [
    "data['Revenue Growth (%)'] = data.groupby('Company')['Total Revenue'].pct_change() * 100\n",
    "data['Net Income Growth (%)'] = data.groupby('Company')['Net Income'].pct_change() * 100"
   ]
  },
  {
   "cell_type": "code",
   "execution_count": 30,
   "metadata": {},
   "outputs": [
    {
     "name": "stdout",
     "output_type": "stream",
     "text": [
      "     Company  Fiscal Year End  Total Revenue  Net Income  Total Assets  \\\n",
      "0  Microsoft       June, 2024         211915       72361        411976   \n",
      "1  Microsoft       June, 2023         198270       72738        364840   \n",
      "2  Microsoft       June, 2022         168088       61271        336289   \n",
      "3      Tesla   December, 2023          96773       14997        106618   \n",
      "4      Tesla   December, 2022          81462       12556         82338   \n",
      "5      Tesla   December, 2021          53823        5519         62131   \n",
      "6      Apple  September, 2023         383285       96995        352583   \n",
      "7      Apple  September, 2022         394328       99803        352755   \n",
      "8      Apple  September, 2021         365817       94680        351002   \n",
      "\n",
      "   Total Liabilities  Cash Flow from Operating Activities  Revenue Growth (%)  \\\n",
      "0             205753                                87582                 NaN   \n",
      "1             198298                                89035           -6.438902   \n",
      "2             177057                                76740          -15.222676   \n",
      "3              43009                                13256                 NaN   \n",
      "4              36440                                14724          -15.821562   \n",
      "5              30548                                11497          -33.928703   \n",
      "6             290437                               110543                 NaN   \n",
      "7             302083                               122151            2.881146   \n",
      "8             287912                               104038           -7.230275   \n",
      "\n",
      "   Net Income Growth (%)  \n",
      "0                    NaN  \n",
      "1               0.520999  \n",
      "2             -15.764800  \n",
      "3                    NaN  \n",
      "4             -16.276589  \n",
      "5             -56.044919  \n",
      "6                    NaN  \n",
      "7               2.894995  \n",
      "8              -5.133112  \n"
     ]
    }
   ],
   "source": [
    "print(data)"
   ]
  },
  {
   "cell_type": "markdown",
   "metadata": {},
   "source": [
    "# Calculating Year-by-Year growth rates for Total Assets, Total Liabilities and Cash flow from Operations Activities"
   ]
  },
  {
   "cell_type": "code",
   "execution_count": 31,
   "metadata": {},
   "outputs": [],
   "source": [
    "data['Assets Growth (%)'] = data.groupby('Company')['Total Assets'].pct_change() * 100\n",
    "data['Liabilities Growth (%)'] = data.groupby('Company')['Total Liabilities'].pct_change() * 100\n",
    "data['Cash Flow from Operations Growth(%)'] = data.groupby('Company')['Cash Flow from Operating Activities'].pct_change() * 100"
   ]
  },
  {
   "cell_type": "code",
   "execution_count": 32,
   "metadata": {},
   "outputs": [
    {
     "name": "stdout",
     "output_type": "stream",
     "text": [
      "     Company  Fiscal Year End  Total Revenue  Net Income  Total Assets  \\\n",
      "0  Microsoft       June, 2024         211915       72361        411976   \n",
      "1  Microsoft       June, 2023         198270       72738        364840   \n",
      "2  Microsoft       June, 2022         168088       61271        336289   \n",
      "3      Tesla   December, 2023          96773       14997        106618   \n",
      "4      Tesla   December, 2022          81462       12556         82338   \n",
      "5      Tesla   December, 2021          53823        5519         62131   \n",
      "6      Apple  September, 2023         383285       96995        352583   \n",
      "7      Apple  September, 2022         394328       99803        352755   \n",
      "8      Apple  September, 2021         365817       94680        351002   \n",
      "\n",
      "   Total Liabilities  Cash Flow from Operating Activities  Revenue Growth (%)  \\\n",
      "0             205753                                87582                 NaN   \n",
      "1             198298                                89035           -6.438902   \n",
      "2             177057                                76740          -15.222676   \n",
      "3              43009                                13256                 NaN   \n",
      "4              36440                                14724          -15.821562   \n",
      "5              30548                                11497          -33.928703   \n",
      "6             290437                               110543                 NaN   \n",
      "7             302083                               122151            2.881146   \n",
      "8             287912                               104038           -7.230275   \n",
      "\n",
      "   Net Income Growth (%)  Assets Growth (%)  Liabilities Growth (%)  \\\n",
      "0                    NaN                NaN                     NaN   \n",
      "1               0.520999         -11.441443               -3.623276   \n",
      "2             -15.764800          -7.825622              -10.711656   \n",
      "3                    NaN                NaN                     NaN   \n",
      "4             -16.276589         -22.772890              -15.273547   \n",
      "5             -56.044919         -24.541524              -16.169045   \n",
      "6                    NaN                NaN                     NaN   \n",
      "7               2.894995           0.048783                4.009820   \n",
      "8              -5.133112          -0.496945               -4.691095   \n",
      "\n",
      "   Cash Flow from Operations Growth(%)  \n",
      "0                                  NaN  \n",
      "1                             1.659017  \n",
      "2                           -13.809176  \n",
      "3                                  NaN  \n",
      "4                            11.074231  \n",
      "5                           -21.916599  \n",
      "6                                  NaN  \n",
      "7                            10.500891  \n",
      "8                           -14.828368  \n"
     ]
    }
   ],
   "source": [
    "print(data)"
   ]
  },
  {
   "cell_type": "markdown",
   "metadata": {},
   "source": [
    "# Imputing Null/NaN values that result from pct_change calculations with 0"
   ]
  },
  {
   "cell_type": "code",
   "execution_count": 33,
   "metadata": {},
   "outputs": [],
   "source": [
    "data.fillna(0, inplace=True)"
   ]
  },
  {
   "cell_type": "code",
   "execution_count": 34,
   "metadata": {},
   "outputs": [
    {
     "name": "stdout",
     "output_type": "stream",
     "text": [
      "     Company  Fiscal Year End  Total Revenue  Net Income  Total Assets  \\\n",
      "0  Microsoft       June, 2024         211915       72361        411976   \n",
      "1  Microsoft       June, 2023         198270       72738        364840   \n",
      "2  Microsoft       June, 2022         168088       61271        336289   \n",
      "3      Tesla   December, 2023          96773       14997        106618   \n",
      "4      Tesla   December, 2022          81462       12556         82338   \n",
      "5      Tesla   December, 2021          53823        5519         62131   \n",
      "6      Apple  September, 2023         383285       96995        352583   \n",
      "7      Apple  September, 2022         394328       99803        352755   \n",
      "8      Apple  September, 2021         365817       94680        351002   \n",
      "\n",
      "   Total Liabilities  Cash Flow from Operating Activities  Revenue Growth (%)  \\\n",
      "0             205753                                87582            0.000000   \n",
      "1             198298                                89035           -6.438902   \n",
      "2             177057                                76740          -15.222676   \n",
      "3              43009                                13256            0.000000   \n",
      "4              36440                                14724          -15.821562   \n",
      "5              30548                                11497          -33.928703   \n",
      "6             290437                               110543            0.000000   \n",
      "7             302083                               122151            2.881146   \n",
      "8             287912                               104038           -7.230275   \n",
      "\n",
      "   Net Income Growth (%)  Assets Growth (%)  Liabilities Growth (%)  \\\n",
      "0               0.000000           0.000000                0.000000   \n",
      "1               0.520999         -11.441443               -3.623276   \n",
      "2             -15.764800          -7.825622              -10.711656   \n",
      "3               0.000000           0.000000                0.000000   \n",
      "4             -16.276589         -22.772890              -15.273547   \n",
      "5             -56.044919         -24.541524              -16.169045   \n",
      "6               0.000000           0.000000                0.000000   \n",
      "7               2.894995           0.048783                4.009820   \n",
      "8              -5.133112          -0.496945               -4.691095   \n",
      "\n",
      "   Cash Flow from Operations Growth(%)  \n",
      "0                             0.000000  \n",
      "1                             1.659017  \n",
      "2                           -13.809176  \n",
      "3                             0.000000  \n",
      "4                            11.074231  \n",
      "5                           -21.916599  \n",
      "6                             0.000000  \n",
      "7                            10.500891  \n",
      "8                           -14.828368  \n"
     ]
    }
   ],
   "source": [
    "print(data)"
   ]
  },
  {
   "cell_type": "code",
   "execution_count": 35,
   "metadata": {},
   "outputs": [],
   "source": [
    "data.to_excel('T:/1. PROJECTS/BCG X - GEN AI/Task - 1/final_data_report.xlsx', index=False)"
   ]
  },
  {
   "cell_type": "markdown",
   "metadata": {},
   "source": [
    "# Year-By-Year Average Growth Rates(%) :-\n",
    "#                             OR\n",
    "# Overall Growth/Fall rate for Apple, Microsoft and Tesla from last 3 Fiscal Year "
   ]
  },
  {
   "cell_type": "code",
   "execution_count": 36,
   "metadata": {},
   "outputs": [],
   "source": [
    "summary = data.groupby('Company').agg({\n",
    "    'Revenue Growth (%)': 'mean',\n",
    "    'Net Income Growth (%)': 'mean',\n",
    "    'Assets Growth (%)' : 'mean',\n",
    "    'Liabilities Growth (%)' : 'mean',\n",
    "    'Cash Flow from Operations Growth(%)' :'mean'    \n",
    "}).reset_index()"
   ]
  },
  {
   "cell_type": "code",
   "execution_count": 37,
   "metadata": {},
   "outputs": [
    {
     "name": "stdout",
     "output_type": "stream",
     "text": [
      "Year-By-Year Average Growth Rates(%) :-\n",
      "             OR\n",
      "Overall Growth/Fall rate for Apple, Microsoft and Tesla from Fiscal Year 2021 - 2023\n",
      "     Company  Revenue Growth (%)  Net Income Growth (%)  Assets Growth (%)  \\\n",
      "0      Apple           -1.449710              -0.746039          -0.149388   \n",
      "1  Microsoft           -7.220526              -5.081267          -6.422355   \n",
      "2      Tesla          -16.583422             -24.107169         -15.771471   \n",
      "\n",
      "   Liabilities Growth (%)  Cash Flow from Operations Growth(%)  \n",
      "0               -0.227092                            -1.442492  \n",
      "1               -4.778311                            -4.050053  \n",
      "2              -10.480864                            -3.614123  \n"
     ]
    }
   ],
   "source": [
    "print('Year-By-Year Average Growth Rates(%) :-')\n",
    "print('             OR')\n",
    "print(\"Overall Growth/Fall rate for Apple, Microsoft and Tesla from Fiscal Year 2021 - 2023\")\n",
    "print(summary)"
   ]
  },
  {
   "cell_type": "code",
   "execution_count": 38,
   "metadata": {},
   "outputs": [],
   "source": [
    "summary.to_excel(\"T:/1. PROJECTS/BCG X - GEN AI/Task - 1/report_summary.xlsx\")"
   ]
  },
  {
   "cell_type": "markdown",
   "metadata": {},
   "source": []
  }
 ],
 "metadata": {
  "kernelspec": {
   "display_name": "Python 3",
   "language": "python",
   "name": "python3"
  },
  "language_info": {
   "codemirror_mode": {
    "name": "ipython",
    "version": 3
   },
   "file_extension": ".py",
   "mimetype": "text/x-python",
   "name": "python",
   "nbconvert_exporter": "python",
   "pygments_lexer": "ipython3",
   "version": "3.12.5"
  }
 },
 "nbformat": 4,
 "nbformat_minor": 2
}
