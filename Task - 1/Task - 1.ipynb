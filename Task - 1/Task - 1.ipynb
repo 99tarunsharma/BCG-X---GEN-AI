{
 "cells": [
  {
   "cell_type": "code",
   "execution_count": 9,
   "metadata": {},
   "outputs": [],
   "source": [
    "import pandas as pd\n",
    "import numpy as np\n"
   ]
  },
  {
   "cell_type": "markdown",
   "metadata": {},
   "source": [
    "# Reading the Manually Extracted Dataset from SEC's EDGAR's database\n",
    "\n",
    "\n",
    "https://www.sec.gov/edgar/searchedgar/cik"
   ]
  },
  {
   "cell_type": "code",
   "execution_count": 10,
   "metadata": {},
   "outputs": [],
   "source": [
    "data = pd.read_excel(\"Report.xlsx\")"
   ]
  },
  {
   "cell_type": "code",
   "execution_count": 11,
   "metadata": {},
   "outputs": [
    {
     "name": "stdout",
     "output_type": "stream",
     "text": [
      "     Company  Fiscal Year End  Total Revenue  Net Income  Total Assets  \\\n",
      "0  Microsoft       June, 2022         168088       61271        336289   \n",
      "1  Microsoft       June, 2023         198270       72738        364840   \n",
      "2  Microsoft       June, 2024         211915       72361        411976   \n",
      "3      Tesla   December, 2021          53823        5519         62131   \n",
      "4      Tesla   December, 2022          81462       12556         82338   \n",
      "5      Tesla   December, 2023          96773       14997        106618   \n",
      "6      Apple  September, 2021         365817       94680        351002   \n",
      "7      Apple  September, 2022         394328       99803        352755   \n",
      "8      Apple  September, 2023         383285       96995        352583   \n",
      "\n",
      "   Total Liabilities  Cash Flow from Operating Activities  \n",
      "0             177057                                76740  \n",
      "1             198298                                89035  \n",
      "2             205753                                87582  \n",
      "3              30548                                11497  \n",
      "4              36440                                14724  \n",
      "5              43009                                13256  \n",
      "6             287912                               104038  \n",
      "7             302083                               122151  \n",
      "8             290437                               110543  \n"
     ]
    }
   ],
   "source": [
    "print(data)"
   ]
  },
  {
   "cell_type": "markdown",
   "metadata": {},
   "source": [
    "# Calculating Year-by-Year growth rates for Total Revenue and Net Income"
   ]
  },
  {
   "cell_type": "code",
   "execution_count": 12,
   "metadata": {},
   "outputs": [],
   "source": [
    "data['Revenue Growth (%)'] = data.groupby('Company')['Total Revenue'].pct_change() * 100\n",
    "data['Net Income Growth (%)'] = data.groupby('Company')['Net Income'].pct_change() * 100"
   ]
  },
  {
   "cell_type": "code",
   "execution_count": 13,
   "metadata": {},
   "outputs": [
    {
     "name": "stdout",
     "output_type": "stream",
     "text": [
      "     Company  Fiscal Year End  Total Revenue  Net Income  Total Assets  \\\n",
      "0  Microsoft       June, 2022         168088       61271        336289   \n",
      "1  Microsoft       June, 2023         198270       72738        364840   \n",
      "2  Microsoft       June, 2024         211915       72361        411976   \n",
      "3      Tesla   December, 2021          53823        5519         62131   \n",
      "4      Tesla   December, 2022          81462       12556         82338   \n",
      "5      Tesla   December, 2023          96773       14997        106618   \n",
      "6      Apple  September, 2021         365817       94680        351002   \n",
      "7      Apple  September, 2022         394328       99803        352755   \n",
      "8      Apple  September, 2023         383285       96995        352583   \n",
      "\n",
      "   Total Liabilities  Cash Flow from Operating Activities  Revenue Growth (%)  \\\n",
      "0             177057                                76740                 NaN   \n",
      "1             198298                                89035           17.956071   \n",
      "2             205753                                87582            6.882030   \n",
      "3              30548                                11497                 NaN   \n",
      "4              36440                                14724           51.351653   \n",
      "5              43009                                13256           18.795267   \n",
      "6             287912                               104038                 NaN   \n",
      "7             302083                               122151            7.793788   \n",
      "8             290437                               110543           -2.800461   \n",
      "\n",
      "   Net Income Growth (%)  \n",
      "0                    NaN  \n",
      "1              18.715216  \n",
      "2              -0.518299  \n",
      "3                    NaN  \n",
      "4             127.504983  \n",
      "5              19.440905  \n",
      "6                    NaN  \n",
      "7               5.410858  \n",
      "8              -2.813543  \n"
     ]
    }
   ],
   "source": [
    "print(data)"
   ]
  },
  {
   "cell_type": "markdown",
   "metadata": {},
   "source": [
    "# Calculating Year-by-Year growth rates for Total Assets, Total Liabilities and Cash flow from Operations Activities"
   ]
  },
  {
   "cell_type": "code",
   "execution_count": 14,
   "metadata": {},
   "outputs": [],
   "source": [
    "data['Assets Growth (%)'] = data.groupby('Company')['Total Assets'].pct_change() * 100\n",
    "data['Liabilities Growth (%)'] = data.groupby('Company')['Total Liabilities'].pct_change() * 100\n",
    "data['Cash Flow from Operations Growth(%)'] = data.groupby('Company')['Cash Flow from Operating Activities'].pct_change() * 100"
   ]
  },
  {
   "cell_type": "code",
   "execution_count": 15,
   "metadata": {},
   "outputs": [
    {
     "name": "stdout",
     "output_type": "stream",
     "text": [
      "     Company  Fiscal Year End  Total Revenue  Net Income  Total Assets  \\\n",
      "0  Microsoft       June, 2022         168088       61271        336289   \n",
      "1  Microsoft       June, 2023         198270       72738        364840   \n",
      "2  Microsoft       June, 2024         211915       72361        411976   \n",
      "3      Tesla   December, 2021          53823        5519         62131   \n",
      "4      Tesla   December, 2022          81462       12556         82338   \n",
      "5      Tesla   December, 2023          96773       14997        106618   \n",
      "6      Apple  September, 2021         365817       94680        351002   \n",
      "7      Apple  September, 2022         394328       99803        352755   \n",
      "8      Apple  September, 2023         383285       96995        352583   \n",
      "\n",
      "   Total Liabilities  Cash Flow from Operating Activities  Revenue Growth (%)  \\\n",
      "0             177057                                76740                 NaN   \n",
      "1             198298                                89035           17.956071   \n",
      "2             205753                                87582            6.882030   \n",
      "3              30548                                11497                 NaN   \n",
      "4              36440                                14724           51.351653   \n",
      "5              43009                                13256           18.795267   \n",
      "6             287912                               104038                 NaN   \n",
      "7             302083                               122151            7.793788   \n",
      "8             290437                               110543           -2.800461   \n",
      "\n",
      "   Net Income Growth (%)  Assets Growth (%)  Liabilities Growth (%)  \\\n",
      "0                    NaN                NaN                     NaN   \n",
      "1              18.715216           8.490019               11.996702   \n",
      "2              -0.518299          12.919636                3.759493   \n",
      "3                    NaN                NaN                     NaN   \n",
      "4             127.504983          32.523217               19.287678   \n",
      "5              19.440905          29.488207               18.026894   \n",
      "6                    NaN                NaN                     NaN   \n",
      "7               5.410858           0.499427                4.921990   \n",
      "8              -2.813543          -0.048759               -3.855232   \n",
      "\n",
      "   Cash Flow from Operations Growth(%)  \n",
      "0                                  NaN  \n",
      "1                            16.021631  \n",
      "2                            -1.631942  \n",
      "3                                  NaN  \n",
      "4                            28.068192  \n",
      "5                            -9.970117  \n",
      "6                                  NaN  \n",
      "7                            17.409985  \n",
      "8                            -9.502992  \n"
     ]
    }
   ],
   "source": [
    "print(data)"
   ]
  },
  {
   "cell_type": "markdown",
   "metadata": {},
   "source": [
    "# Imputing Null/NaN values that result from pct_change calculations with 0"
   ]
  },
  {
   "cell_type": "code",
   "execution_count": 16,
   "metadata": {},
   "outputs": [],
   "source": [
    "data.fillna(0, inplace=True)"
   ]
  },
  {
   "cell_type": "code",
   "execution_count": 17,
   "metadata": {},
   "outputs": [
    {
     "name": "stdout",
     "output_type": "stream",
     "text": [
      "     Company  Fiscal Year End  Total Revenue  Net Income  Total Assets  \\\n",
      "0  Microsoft       June, 2022         168088       61271        336289   \n",
      "1  Microsoft       June, 2023         198270       72738        364840   \n",
      "2  Microsoft       June, 2024         211915       72361        411976   \n",
      "3      Tesla   December, 2021          53823        5519         62131   \n",
      "4      Tesla   December, 2022          81462       12556         82338   \n",
      "5      Tesla   December, 2023          96773       14997        106618   \n",
      "6      Apple  September, 2021         365817       94680        351002   \n",
      "7      Apple  September, 2022         394328       99803        352755   \n",
      "8      Apple  September, 2023         383285       96995        352583   \n",
      "\n",
      "   Total Liabilities  Cash Flow from Operating Activities  Revenue Growth (%)  \\\n",
      "0             177057                                76740            0.000000   \n",
      "1             198298                                89035           17.956071   \n",
      "2             205753                                87582            6.882030   \n",
      "3              30548                                11497            0.000000   \n",
      "4              36440                                14724           51.351653   \n",
      "5              43009                                13256           18.795267   \n",
      "6             287912                               104038            0.000000   \n",
      "7             302083                               122151            7.793788   \n",
      "8             290437                               110543           -2.800461   \n",
      "\n",
      "   Net Income Growth (%)  Assets Growth (%)  Liabilities Growth (%)  \\\n",
      "0               0.000000           0.000000                0.000000   \n",
      "1              18.715216           8.490019               11.996702   \n",
      "2              -0.518299          12.919636                3.759493   \n",
      "3               0.000000           0.000000                0.000000   \n",
      "4             127.504983          32.523217               19.287678   \n",
      "5              19.440905          29.488207               18.026894   \n",
      "6               0.000000           0.000000                0.000000   \n",
      "7               5.410858           0.499427                4.921990   \n",
      "8              -2.813543          -0.048759               -3.855232   \n",
      "\n",
      "   Cash Flow from Operations Growth(%)  \n",
      "0                             0.000000  \n",
      "1                            16.021631  \n",
      "2                            -1.631942  \n",
      "3                             0.000000  \n",
      "4                            28.068192  \n",
      "5                            -9.970117  \n",
      "6                             0.000000  \n",
      "7                            17.409985  \n",
      "8                            -9.502992  \n"
     ]
    }
   ],
   "source": [
    "print(data)"
   ]
  },
  {
   "cell_type": "code",
   "execution_count": 18,
   "metadata": {},
   "outputs": [],
   "source": [
    "data.to_excel('final_data_report.xlsx', index=False)"
   ]
  },
  {
   "cell_type": "markdown",
   "metadata": {},
   "source": [
    "# Year-By-Year Average Growth Rates(%) :-\n",
    "#                             OR\n",
    "# Overall Growth/Fall rate for Apple, Microsoft and Tesla from last 3 Fiscal Year "
   ]
  },
  {
   "cell_type": "code",
   "execution_count": 19,
   "metadata": {},
   "outputs": [],
   "source": [
    "summary = data.groupby('Company').agg({\n",
    "    'Revenue Growth (%)': 'mean',\n",
    "    'Net Income Growth (%)': 'mean',\n",
    "    'Assets Growth (%)' : 'mean',\n",
    "    'Liabilities Growth (%)' : 'mean',\n",
    "    'Cash Flow from Operations Growth(%)' :'mean'    \n",
    "}).reset_index()"
   ]
  },
  {
   "cell_type": "code",
   "execution_count": 20,
   "metadata": {},
   "outputs": [
    {
     "name": "stdout",
     "output_type": "stream",
     "text": [
      "Year-By-Year Average Growth Rates(%) :-\n",
      "             OR\n",
      "Overall Growth/Fall rate for Apple, Microsoft and Tesla from Fiscal Year 2021 - 2023\n",
      "     Company  Revenue Growth (%)  Net Income Growth (%)  Assets Growth (%)  \\\n",
      "0      Apple            1.664442               0.865772           0.150223   \n",
      "1  Microsoft            8.279367               6.065639           7.136552   \n",
      "2      Tesla           23.382306              48.981963          20.670475   \n",
      "\n",
      "   Liabilities Growth (%)  Cash Flow from Operations Growth(%)  \n",
      "0                0.355586                             2.635664  \n",
      "1                5.252065                             4.796563  \n",
      "2               12.438191                             6.032692  \n"
     ]
    }
   ],
   "source": [
    "print('Year-By-Year Average Growth Rates(%) :-')\n",
    "print('             OR')\n",
    "print(\"Overall Growth/Fall rate for Apple, Microsoft and Tesla from Fiscal Year 2021 - 2023\")\n",
    "print(summary)"
   ]
  },
  {
   "cell_type": "code",
   "execution_count": 21,
   "metadata": {},
   "outputs": [],
   "source": [
    "summary.to_excel(\"report_summary.xlsx\")"
   ]
  },
  {
   "cell_type": "markdown",
   "metadata": {},
   "source": []
  }
 ],
 "metadata": {
  "kernelspec": {
   "display_name": "Python 3",
   "language": "python",
   "name": "python3"
  },
  "language_info": {
   "codemirror_mode": {
    "name": "ipython",
    "version": 3
   },
   "file_extension": ".py",
   "mimetype": "text/x-python",
   "name": "python",
   "nbconvert_exporter": "python",
   "pygments_lexer": "ipython3",
   "version": "3.12.6"
  }
 },
 "nbformat": 4,
 "nbformat_minor": 2
}
